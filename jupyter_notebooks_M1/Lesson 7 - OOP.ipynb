{
 "cells": [
  {
   "cell_type": "markdown",
   "id": "658fe625",
   "metadata": {},
   "source": [
    "# Задания к уроку 7"
   ]
  },
  {
   "cell_type": "markdown",
   "id": "284e1715",
   "metadata": {},
   "source": [
    "### Задание 1\n",
    "Напишите класс Triangle, который будет иметь 3 поля: a, b, c (стороны треугольника) и n_dots = 3 (количество точек). Поле n_dots объявите на уровне класса, не в конструкторе — чтобы оно было доступно без создания объекта (т.е. работал вызов Triangle.n_dots). Добавьте в класс простой конструктор, принимающий на вход все три стороны и сохраняющий эти стороны в соответсвующие поля класса.\n",
    "\n",
    "Создайте объекты этого класса со следующими названиями: tr_1, tr_2 и любыми значениями длин сторон."
   ]
  },
  {
   "cell_type": "code",
   "execution_count": 3,
   "id": "f87b7dbe",
   "metadata": {},
   "outputs": [],
   "source": [
    "class Triangle:\n",
    "    a: int\n",
    "    b: int\n",
    "    c: int\n",
    "    n_dots = 3\n",
    "    \n",
    "    def __init__(self, a, b, c):\n",
    "        self.a = a\n",
    "        self.b = b\n",
    "        self.c = c"
   ]
  },
  {
   "cell_type": "code",
   "execution_count": 4,
   "id": "1a383859",
   "metadata": {},
   "outputs": [],
   "source": [
    "tr_1 = Triangle(1,2,3)\n",
    "tr_2 = Triangle(3,2,1)"
   ]
  },
  {
   "cell_type": "code",
   "execution_count": 5,
   "id": "82483763",
   "metadata": {},
   "outputs": [
    {
     "data": {
      "text/plain": [
       "1"
      ]
     },
     "execution_count": 5,
     "metadata": {},
     "output_type": "execute_result"
    }
   ],
   "source": [
    "# проверка\n",
    "tr_1.a"
   ]
  },
  {
   "cell_type": "markdown",
   "id": "466facd5",
   "metadata": {},
   "source": [
    "### Задание 2\n",
    "Возьмите класс Triangle из предыдущего задания и добавьте метод area(), возвращающий площадь треугольника. Напомним, что при известных трех сторонах площадь треугольника можно подсчитать по формуле Герона. Подумайте, как можно организовать код так, чтобы p считалась один раз.\n",
    "\n",
    "Затем поменяйте конструктор: он должен проверять, что выполнено неравенство треугольника - каждая сторона меньше или равна сумме двух других. Если это условие не выполнено, выбрасывайте ValueError с текстом \"triangle inequality does not hold\" (передайте эту строку в конструктор ValueError).\n",
    "\n",
    "Наконец, создайте два объекта данного класса с названиями tr_1 и tr_2 , в которых соблюдается равенство треугольника. Также, сохраните в переменные square_1 и square_2 результаты вызовов методов .area() для объектов tr_1 и tr_2 соответственно."
   ]
  },
  {
   "cell_type": "code",
   "execution_count": 6,
   "id": "680c7170",
   "metadata": {},
   "outputs": [],
   "source": [
    "class Triangle_2_0:\n",
    "    a: int\n",
    "    b: int\n",
    "    c: int\n",
    "    n_dots = 3\n",
    "    \n",
    "    def __init__(self, a, b, c):\n",
    "        if (a > (b + c)) or (b > (a + c)) or (c > (a + b)):\n",
    "            raise ValueError('triangle inequality does not hold')\n",
    "        else:\n",
    "            self.a = a\n",
    "            self.b = b\n",
    "            self.c = c\n",
    "    \n",
    "    def area(self):\n",
    "        a = self.a\n",
    "        b = self.b\n",
    "        c = self.c\n",
    "        \n",
    "        # полупериметр\n",
    "        p = 0.5 * (a + b + c)\n",
    "        \n",
    "        # площадь\n",
    "        s = (p * (p - a) * (p - b) * (p - c)) ** (0.5)\n",
    "        \n",
    "        return f'Площадь равна {s}'"
   ]
  },
  {
   "cell_type": "code",
   "execution_count": 7,
   "id": "ef483cf8",
   "metadata": {},
   "outputs": [],
   "source": [
    "tr_3 = Triangle_2_0(4,3,2)"
   ]
  },
  {
   "cell_type": "code",
   "execution_count": 8,
   "id": "d04b5d1a",
   "metadata": {},
   "outputs": [],
   "source": [
    "tr_4 = Triangle_2_0(2,2,3)"
   ]
  },
  {
   "cell_type": "code",
   "execution_count": 9,
   "id": "6f7c9592",
   "metadata": {},
   "outputs": [
    {
     "name": "stdout",
     "output_type": "stream",
     "text": [
      "Площадь равна 2.9047375096555625\n",
      "Площадь равна 1.984313483298443\n"
     ]
    }
   ],
   "source": [
    "square_1 = tr_3.area()\n",
    "print(square_1)\n",
    "\n",
    "square_2 = tr_4.area()\n",
    "print(square_2)"
   ]
  },
  {
   "cell_type": "markdown",
   "id": "5e1f41c9",
   "metadata": {},
   "source": [
    "### Задание 3\n",
    "Создайте класс Rectangle (прямоугольник), который будет наследоваться от класса Triangle. Сделайте так, чтобы area(), конструктор и поле n_dots были верными. А именно:\n",
    "\n",
    "- Конструктор должен принимать 2 стороны: a, b\n",
    "- area() должен считать площадь как произведение смежных сторон: S=ab\n",
    "- Неравенство треугольника не нужно проверять.\n",
    "- n_dots должен быть объявлен на уровне класса и равняться 4.\n",
    "\n",
    "Отправьте реализацию класса Rectangle в LMS. Класс Triangle отправлять не нужно."
   ]
  },
  {
   "cell_type": "code",
   "execution_count": 10,
   "id": "89866ca2",
   "metadata": {},
   "outputs": [],
   "source": [
    "class Rectangle(Triangle):\n",
    "    a: int\n",
    "    b: int\n",
    "    n_dots = 4\n",
    "        \n",
    "    def __init__(self, a, b):\n",
    "        self.a = a\n",
    "        self.b = b\n",
    "    \n",
    "    def area(self):\n",
    "        s = self.a * self.b\n",
    "        return f' Площадь равна {s}'"
   ]
  },
  {
   "cell_type": "code",
   "execution_count": 11,
   "id": "7ef89809",
   "metadata": {},
   "outputs": [],
   "source": [
    "rec = Rectangle(2, 4)"
   ]
  },
  {
   "cell_type": "code",
   "execution_count": 12,
   "id": "7f75be70",
   "metadata": {},
   "outputs": [
    {
     "name": "stdout",
     "output_type": "stream",
     "text": [
      " Площадь равна 8\n"
     ]
    }
   ],
   "source": [
    "print(rec.area())"
   ]
  },
  {
   "cell_type": "markdown",
   "id": "242e4b8c",
   "metadata": {},
   "source": [
    "### Задание 4\n",
    "Вы, наверно, заметили, что при наследовании в прошлом задании мы переписали почти всю логику. Это плохо: при наследовании нужно расширять класс, а не переписывать его.\n",
    "\n",
    "Но все же хочется использовать наследование, ведь треугольники и прямоугольники имеют общие свойства: \n",
    "\n",
    "- Оба характеризуются количеством точек n_dots.\n",
    "- Оба имеют метод area().\n",
    "- Оба имеют проверки на валидность данных. В случае прямоугольника это было равенство противоположных сторон, которое мы пропустили благодаря трюку: вместо принятия четырех сторон a, b, c, d на вход мы принимали две и далее держали в уме a=c, b=d. В случае треугольника это было неравенство треугольника.\n",
    "\n",
    "Тут нам поможет создание некой \"базовой фигуры\". Это будет сборник общих свойств, который сам по себе не будет представлять никакую фигуру, но послужит хорошим плацдармом для следующих классов.\n",
    "\n",
    "Напишите класс BaseFigure, который имеет поле класса (т.е. на уровне класса) n_dots = None, метод area() \"без реализации\", метод validate() \"без реализации\". Сделайте так, чтобы методы \"без реализации\" выбрасывали исключение NotImplementedError при их вызове и ничего другого не делали. Создайте также конструктор класса, который не принимает дополнительных аргументов и в реализации только лишь вызывает self.validate()."
   ]
  },
  {
   "cell_type": "code",
   "execution_count": 13,
   "id": "6e864a8f",
   "metadata": {},
   "outputs": [],
   "source": [
    "class BaseFigure:\n",
    "    n_dots = None\n",
    "    \n",
    "    def area(self):\n",
    "        raise NotImplementedError\n",
    "    \n",
    "    def validate(self):\n",
    "        raise NotImplementedError\n",
    "    \n",
    "    def __init__(self):\n",
    "        self.validate()"
   ]
  },
  {
   "cell_type": "code",
   "execution_count": 14,
   "id": "5c8d408a",
   "metadata": {},
   "outputs": [
    {
     "ename": "NotImplementedError",
     "evalue": "",
     "output_type": "error",
     "traceback": [
      "\u001b[1;31m---------------------------------------------------------------------------\u001b[0m",
      "\u001b[1;31mNotImplementedError\u001b[0m                       Traceback (most recent call last)",
      "Cell \u001b[1;32mIn [14], line 1\u001b[0m\n\u001b[1;32m----> 1\u001b[0m abs_fig \u001b[38;5;241m=\u001b[39m \u001b[43mBaseFigure\u001b[49m\u001b[43m(\u001b[49m\u001b[43m)\u001b[49m\n",
      "Cell \u001b[1;32mIn [13], line 11\u001b[0m, in \u001b[0;36mBaseFigure.__init__\u001b[1;34m(self)\u001b[0m\n\u001b[0;32m     10\u001b[0m \u001b[38;5;28;01mdef\u001b[39;00m \u001b[38;5;21m__init__\u001b[39m(\u001b[38;5;28mself\u001b[39m):\n\u001b[1;32m---> 11\u001b[0m     \u001b[38;5;28;43mself\u001b[39;49m\u001b[38;5;241;43m.\u001b[39;49m\u001b[43mvalidate\u001b[49m\u001b[43m(\u001b[49m\u001b[43m)\u001b[49m\n",
      "Cell \u001b[1;32mIn [13], line 8\u001b[0m, in \u001b[0;36mBaseFigure.validate\u001b[1;34m(self)\u001b[0m\n\u001b[0;32m      7\u001b[0m \u001b[38;5;28;01mdef\u001b[39;00m \u001b[38;5;21mvalidate\u001b[39m(\u001b[38;5;28mself\u001b[39m):\n\u001b[1;32m----> 8\u001b[0m     \u001b[38;5;28;01mraise\u001b[39;00m \u001b[38;5;167;01mNotImplementedError\u001b[39;00m\n",
      "\u001b[1;31mNotImplementedError\u001b[0m: "
     ]
    }
   ],
   "source": [
    "abs_fig = BaseFigure()"
   ]
  },
  {
   "cell_type": "markdown",
   "id": "0a442931",
   "metadata": {},
   "source": [
    "### Задание 5\n",
    "Перепишите классы Triangle, Rectangle так, чтобы они наследовались от BaseFigure. Затем уберите реализацию всех методов и конструкторов в классах-потомках.\n",
    "\n",
    "Есть ли у Triangle, Rectangle методы area, validate? Если есть, то что они возвращают при вызове?"
   ]
  },
  {
   "cell_type": "code",
   "execution_count": null,
   "id": "34850440",
   "metadata": {},
   "outputs": [],
   "source": [
    "class Triangle_3_0(BaseFigure):\n",
    "    a: int\n",
    "    b: int\n",
    "    c: int\n",
    "    n_dots = 3\n",
    "    \n",
    "class Rectangle_2_0(BaseFigure):\n",
    "    a: int\n",
    "    b: int\n",
    "    n_dots = 4"
   ]
  },
  {
   "cell_type": "code",
   "execution_count": null,
   "id": "e9c1d013",
   "metadata": {},
   "outputs": [],
   "source": [
    "abs_tr = Triangle_3_0()"
   ]
  },
  {
   "cell_type": "code",
   "execution_count": null,
   "id": "685012d6",
   "metadata": {},
   "outputs": [],
   "source": [
    "abs_rec = Rectangle_2_0()"
   ]
  },
  {
   "cell_type": "markdown",
   "id": "d7aa446c",
   "metadata": {},
   "source": [
    "### Задание 6\n",
    "Возьмите классы Triangle и Rectangle из прошлого задания.\n",
    "\n",
    "- Переопределите метод area в каждом случае.\n",
    "- Переопределите конструктор в каждом случае (число аргументов тоже меняется). Не забудьте в конструкторе дочернего класса вызвать конструктор родительского класса!\n",
    "- Переопределите метод validate в каждом случае. Метод validate должен принимать только аргумент self и использовать созданные в конструкторе переменные. Для этого вы можете сначала сохранять в конструкторе входные данные в self.переменная, а затем вызывать конструктор суперкласса. Для Triangle данный метод должен проверять неравенство треугольника и выбрасывать ошибку ValueError(\"triangle inequality does not hold\") либо возвращать значения сторон. Для Rectangle данный метод должен возвращать значения сторон.\n",
    "\n",
    "В итоге вы получите два класса, которые построены по схожему шаблону. Этот общий шаблон был задан в классе BaseFigure. Создайте несколько объектов этих классов и попробуйте вызвать у них .area(), .validate(). Если вы пользуетесь IDE, то увидите интерактивные подсказки: она скажет, что такие методы есть и что эти методы перегружают (overload) методы из родительского класса. При этом вызов методов будет работать коррректно.\n",
    "\n",
    "Загрузите в LMS реализацию классов Triangle, Rectangle. Используйте для отступов 4 пробела. ОБРАТИТЕ ВНИМАНИЕ, что реализацию класса BaseFigure загружать не надо."
   ]
  },
  {
   "cell_type": "code",
   "execution_count": null,
   "id": "8b49f812",
   "metadata": {},
   "outputs": [],
   "source": [
    "class Triangle_4_0(BaseFigure):\n",
    "    a: int\n",
    "    b: int\n",
    "    c: int\n",
    "    \n",
    "    def area(self):\n",
    "        a = self.a\n",
    "        b = self.b\n",
    "        c = self.c\n",
    "        \n",
    "        # полупериметр\n",
    "        p = 0.5 * (a + b + c)\n",
    "        \n",
    "        # площадь\n",
    "        s = (p * (p - a) * (p - b) * (p - c)) ** (0.5)\n",
    "        \n",
    "        return f'Площадь равна {s}'\n",
    "    \n",
    "    def __init__(self, a, b, c):\n",
    "        self.a = a\n",
    "        self.b = b\n",
    "        self.c = c\n",
    "        super().__init__()\n",
    "            \n",
    "    def validate(self):\n",
    "        a = self.a\n",
    "        b = self.b\n",
    "        c = self.c\n",
    "        if (a > (b + c)) or (b > (a + c)) or (c > (a + b)):\n",
    "            raise ValueError('triangle inequality does not hold')\n",
    "        else:\n",
    "            return a, b, c\n",
    "        \n",
    "class Rectangle_3_0(BaseFigure):\n",
    "    a: int\n",
    "    b: int\n",
    "    \n",
    "    def area(self):\n",
    "        a = self.a\n",
    "        b = self.b\n",
    "        \n",
    "        # площадь\n",
    "        s = a * b\n",
    "        \n",
    "        return f'Площадь равна {s}'\n",
    "    \n",
    "    def __init__(self, a, b):\n",
    "        self.a = a\n",
    "        self.b = b\n",
    "        super().__init__()\n",
    "            \n",
    "    def validate(self):     \n",
    "        return self.a, self.b"
   ]
  },
  {
   "cell_type": "code",
   "execution_count": null,
   "id": "050c1173",
   "metadata": {},
   "outputs": [],
   "source": [
    "tr_4_0 = Triangle_4_0(2, 3, 4)"
   ]
  },
  {
   "cell_type": "code",
   "execution_count": null,
   "id": "256f387c",
   "metadata": {},
   "outputs": [],
   "source": [
    "rect_3_0 = Rectangle_3_0(2, 3)"
   ]
  },
  {
   "cell_type": "code",
   "execution_count": null,
   "id": "03325251",
   "metadata": {},
   "outputs": [],
   "source": [
    "tr_4_0.area()"
   ]
  },
  {
   "cell_type": "code",
   "execution_count": null,
   "id": "7383f091",
   "metadata": {},
   "outputs": [],
   "source": [
    "rect_3_0.area()"
   ]
  },
  {
   "cell_type": "markdown",
   "id": "48b6c177",
   "metadata": {},
   "source": [
    "### Задание 7\n",
    "Попробуем собрать совершенно новый класс, используя BaseFigure в качестве шаблона.\n",
    "\n",
    "Напишите класс Circle, в котором в качестве n_dots будет float('inf'), area будет считаться как 3.14 * r^2, а конструктор будет принимать только один аргумент - r. Метод validate не должен принимать никаких аргументов и не должен осуществлять никаких проверок."
   ]
  },
  {
   "cell_type": "code",
   "execution_count": null,
   "id": "70936a01",
   "metadata": {},
   "outputs": [],
   "source": [
    "class Circle(BaseFigure):\n",
    "    r: int\n",
    "    \n",
    "    def __init__(self, r):\n",
    "        self.r = r\n",
    "        super().__init__()\n",
    "        \n",
    "    def area(self):\n",
    "        s = 3.14 * self.r ** 2\n",
    "        return f'Площадь равна {s}'\n",
    "    \n",
    "    def validate(self):\n",
    "        return self.r"
   ]
  },
  {
   "cell_type": "code",
   "execution_count": null,
   "id": "517c8017",
   "metadata": {},
   "outputs": [],
   "source": [
    "cir = Circle(3)"
   ]
  },
  {
   "cell_type": "code",
   "execution_count": null,
   "id": "3aa50732",
   "metadata": {},
   "outputs": [],
   "source": [
    "cir.area()"
   ]
  },
  {
   "cell_type": "markdown",
   "id": "7e3bb653",
   "metadata": {},
   "source": [
    "### Задание 8\n",
    "Напишите класс Vector, который на вход будет принимать список координат (x1 ... xn). Положите все координаты вектора в список self.coords.\n",
    "Добейтесь того, чтобы объекты класса Vector можно было складывать через оператор + и получать на выходе тоже объект этого же класса."
   ]
  },
  {
   "cell_type": "code",
   "execution_count": 2,
   "id": "a8ce5220",
   "metadata": {},
   "outputs": [],
   "source": [
    "class Vector:\n",
    "    coords: list\n",
    "    \n",
    "    def __init__(self, coords):\n",
    "        self.coords = coords\n",
    "        super().__init__()\n",
    "        \n",
    "    def validate(self):\n",
    "        for elem in self.coords:\n",
    "            if not isinstance(elem, int):\n",
    "                raise ValueError('Ты чё сюда запихал, еблан?')\n",
    "    \n",
    "    def __add__(self, other):\n",
    "        if len(self.coords) != len(other.coords):\n",
    "            raise ValueError(f'left and right lengths differ: {len(self.coords)} != {len(other.coords)}')\n",
    "        return Vector([(self.coords[i] + other.coords[i]) for i in range(len(self.coords))])"
   ]
  },
  {
   "cell_type": "code",
   "execution_count": 3,
   "id": "01bef2f6",
   "metadata": {},
   "outputs": [
    {
     "name": "stdout",
     "output_type": "stream",
     "text": [
      "<__main__.Vector object at 0x000001524A6A0E80>\n"
     ]
    }
   ],
   "source": [
    "vec1 = Vector([1,2,3])\n",
    "vec2 = Vector([3,2,1])\n",
    "\n",
    "print(vec1 + vec2)"
   ]
  },
  {
   "cell_type": "markdown",
   "id": "e7d21246",
   "metadata": {},
   "source": [
    "### Задание 9\n",
    "Добавим могущества нашему вектору.\n",
    "\n",
    "Добавьте методу красивый вывод при передаче его в print(...). Пример:\n",
    "    \n",
    "\n",
    "        print(Vector([1, 2, 3]))\n",
    "        # Напечатает: \"[1, 2, 3]\" без кавычек\n",
    "        vec = Vector([1])\n",
    "        print(vec)\n",
    "        # Напечатает \"[1]\" без кавычек"
   ]
  },
  {
   "cell_type": "code",
   "execution_count": 26,
   "id": "11746faf",
   "metadata": {},
   "outputs": [],
   "source": [
    "class Vector_2_0:\n",
    "    coords: list\n",
    "    \n",
    "    def __init__(self, coords):\n",
    "        self.coords = coords\n",
    "        super().__init__()\n",
    "        \n",
    "    def validate(self):\n",
    "        for elem in self.coords:\n",
    "            if not isinstance(elem, int):\n",
    "                raise ValueError('Ты чё сюда запихал, еблан?')\n",
    "    \n",
    "    def __add__(self, other):\n",
    "        if len(self.coords) != len(other.coords):\n",
    "            raise ValueError(f'left and right lengths differ: {len(self.coords)} != {len(other.coords)}')\n",
    "        return [(self.coords[i] + other.coords[i]) for i in range(len(self.coords))]\n",
    "    \n",
    "    def __str__(self):\n",
    "        return f'{self.coords}'"
   ]
  },
  {
   "cell_type": "code",
   "execution_count": 27,
   "id": "01b24c3e",
   "metadata": {},
   "outputs": [
    {
     "name": "stdout",
     "output_type": "stream",
     "text": [
      "[1, 2, 3, 4]\n"
     ]
    }
   ],
   "source": [
    "vec2 = Vector_2_0([1,2,3,4])\n",
    "print(vec2)"
   ]
  },
  {
   "cell_type": "markdown",
   "id": "105e4697",
   "metadata": {},
   "source": [
    "### Задание 10\n",
    "Продолжаем улучшать вектор. Добавьте в класс возможность умножать вектор на вектор и вектор на число. Не забудьте сохранять координаты вектора в self.coords.\n",
    "\n",
    "        Vector([1, 2, 3]) * Vector([2, 5, -2])  # даст 6\n",
    "        # 1 * 2 + 2 * 5 + 3 * (-2) = 6\n",
    "\n",
    "        Vector([1, 2]) * Vector([2, 3, 4])\n",
    "        # ValueError: left and right lengths differ: 2 != 3\n",
    "\n",
    "        Vector([2, 3, 5, 8]) * 5  # даст Vector([10, 15, 25, 40])"
   ]
  },
  {
   "cell_type": "code",
   "execution_count": 4,
   "id": "9b3293ed",
   "metadata": {},
   "outputs": [],
   "source": [
    "class Vector_3_0:\n",
    "    coords: list\n",
    "    \n",
    "    def __init__(self, coords):\n",
    "        self.coords = coords\n",
    "        super().__init__()\n",
    "        \n",
    "    def validate(self):\n",
    "        for elem in self.coords:\n",
    "            if not isinstance(elem, int):\n",
    "                raise ValueError('Ты чё сюда запихал, еблан?')\n",
    "    \n",
    "    def __add__(self, other):\n",
    "        if len(self.coords) != len(other.coords):\n",
    "            raise ValueError(f'left and right lengths differ: {len(self.coords)} != {len(other.coords)}')\n",
    "        return [(self.coords[i] + other.coords[i]) for i in range(len(self.coords))]\n",
    "    \n",
    "    def __str__(self):\n",
    "        return f'{self.coords}'\n",
    "    \n",
    "    def __mul__(self, other):\n",
    "        if isinstance(self, Vector_3_0) and isinstance(other, Vector_3_0):\n",
    "            result = [(self.coords[i] * other.coords[i]) for i in range(len(self.coords))]\n",
    "        else:\n",
    "            result = [(self.coords[i] * other) for i in range(len(self.coords))]\n",
    "        \n",
    "        return result"
   ]
  },
  {
   "cell_type": "code",
   "execution_count": 6,
   "id": "b3330c90",
   "metadata": {},
   "outputs": [],
   "source": [
    "vec3 = Vector_3_0([1,2,3])\n",
    "vec3_1 = Vector_3_0([1,2,3])\n",
    "num = 3"
   ]
  },
  {
   "cell_type": "code",
   "execution_count": 7,
   "id": "5632db8d",
   "metadata": {},
   "outputs": [
    {
     "name": "stdout",
     "output_type": "stream",
     "text": [
      "[1, 4, 9]\n"
     ]
    }
   ],
   "source": [
    "print(vec3 * vec3_1)"
   ]
  },
  {
   "cell_type": "code",
   "execution_count": 9,
   "id": "0b8f18cf",
   "metadata": {},
   "outputs": [
    {
     "name": "stdout",
     "output_type": "stream",
     "text": [
      "[3, 6, 9]\n"
     ]
    }
   ],
   "source": [
    "print(vec3 * num)"
   ]
  },
  {
   "cell_type": "markdown",
   "id": "382aa740",
   "metadata": {},
   "source": [
    "### Задание 11\n",
    "Последние штрихи для нашего вектора.\n",
    "\n",
    "Добавьте в класс возможности сравнивать два вектора между собой и считать abs (это длина вектора, в Евклидовой метрике).\n",
    "\n",
    "        abs(Vector([-12, 5]))  # Должно быть 13\n",
    "\n",
    "        Vector([1, 3, 5]) == Vector([1])  # False\n",
    "        Vector([1, 3, 5]) == Vector([-1, 3, 5])  # False\n",
    "        Vector([1, 3, 5]) == Vector([1, 3, 5])  # True\n",
    "        \n",
    "По итогу мы получим вектора, которые можно складывать, умножать, печатать, считать длину и сравнивать на равенство друг с другом."
   ]
  },
  {
   "cell_type": "code",
   "execution_count": 39,
   "id": "9a51c1bd",
   "metadata": {},
   "outputs": [],
   "source": [
    "class Vector_4_0(BaseFigure):\n",
    "    coords: list\n",
    "    \n",
    "    def __init__(self, coords):\n",
    "        self.coords = coords\n",
    "        super().__init__()\n",
    "        \n",
    "    def validate(self):\n",
    "        for elem in self.coords:\n",
    "            if not isinstance(elem, int):\n",
    "                raise ValueError('Ты чё сюда запихал, еблан?')\n",
    "    \n",
    "    def __add__(self, other):\n",
    "        if len(self.coords) != len(other.coords):\n",
    "            raise ValueError(f'left and right lengths differ: {len(self.coords)} != {len(other.coords)}')\n",
    "        return [(self.coords[i] + other.coords[i]) for i in range(len(self.coords))]\n",
    "    \n",
    "    def __str__(self):\n",
    "        return f'{self.coords}'\n",
    "    \n",
    "    def multiply(self, other):\n",
    "        if isinstance(self, Vector_3_0) and isinstance(other, Vector_3_0):\n",
    "            result = [(self.coords[i] * other.coords[i]) for i in range(len(self.coords))]\n",
    "        else:\n",
    "            result = [(self.coords[i] * other) for i in range(len(self.coords))]\n",
    "        \n",
    "        return result\n",
    "    \n",
    "    def compare(self, other):\n",
    "        return len(self.coords) == len(other.coords)"
   ]
  },
  {
   "cell_type": "code",
   "execution_count": 40,
   "id": "c3f21651",
   "metadata": {},
   "outputs": [],
   "source": [
    "vec4 = Vector_4_0([1,2,3])\n",
    "vec4_1 = Vector_4_0([3,2,1])"
   ]
  },
  {
   "cell_type": "code",
   "execution_count": 41,
   "id": "b3a2b727",
   "metadata": {},
   "outputs": [
    {
     "name": "stdout",
     "output_type": "stream",
     "text": [
      "True\n"
     ]
    }
   ],
   "source": [
    "print(vec4.compare(vec4_1))"
   ]
  },
  {
   "cell_type": "markdown",
   "id": "e4e4627b",
   "metadata": {},
   "source": [
    "### Задание 12\n",
    "Попробуем сделать множественное наследование аккуратно и так, как его обычно делают в популярных библиотеках.\n",
    "\n",
    "Обычно множественное наследование используют в т.н. Mixins. Mixin (рус. миксины) - это класс, не имеющий полей и имеющий один или более не абстрактных методов (т.е. методов с реализацией). Обычно миксины используют для того, чтобы модульно раздавать различные функциональности различным объектам.\n",
    "\n",
    "В лекции был пример с Connectable и PostgresqlConnection. Connectable как раз был одной из Mixin.\n",
    "\n",
    "Вас перевели из тех.директора сложного проекта в бекенд-разработчика. Встала задача разработать класс, которому на вход будет приходить разобранный запрос от пользователя. Запрос имеет вид:\n",
    "\n",
    "        # будет приходить запрос в виде словаря\n",
    "        request = {\n",
    "          \"cookies\": {key_1: value_1, key_2: value_2, ...},\n",
    "          \"body\": \"a long time ago, in a Galaxy far, far away\",\n",
    "          \"headers\": {\"content-type\": \"application/json\", \"Accept\": \"application/json\"}\n",
    "        }\n",
    "\n",
    "        # и этот словарь будет передаваться в конструктор класса\n",
    "        handler = Handler(request)\n",
    "\n",
    "Разным классам в приложении потребуется разная функциональность: кому-то потребуется проверять, есть ли в headers ключ \"Accept\", кому-то потребуется читать body, а кому-то понадобится проверять пустоту cookies. Будут и классы, которым потребуется несколько возможностей сразу.\n",
    "\n",
    "Напишите классы ParsesCookies, ParsesBody, ParsesHeaders по условиям:\n",
    "\n",
    "- Класс ParsesCookies имеет метод cookies(), возвращающий все по ключу cookies из словаря self.request.\n",
    "- Класс ParsesCookies имеет метод is_authed(), который будет проверять, что в словаре cookies будет ключ auth_key (ни в коем случае не используйте такую авторизацию в реальных проектах).\n",
    "- Класс ParsesBody имеет метод body(), возвращающий текст по ключу body в self.request.\n",
    "- Класс ParsesHeaders имеет метод headers(), возвращающий все по ключу headers из словаря self.request.\n",
    "- Класс ParsesHeaders имеет метод need_json(), который возвращает True, если в headers по ключу \"content-type\" лежит значение \"application/json\", иначе False."
   ]
  },
  {
   "cell_type": "code",
   "execution_count": 1,
   "id": "db2d4df0",
   "metadata": {},
   "outputs": [],
   "source": [
    "class ParsesCookies:\n",
    "    request: dict\n",
    "        \n",
    "    def __init__(self, request):\n",
    "        self.request = request\n",
    "    \n",
    "    def cookies(self):\n",
    "        return self.request.get('cookies', '?')\n",
    "    \n",
    "    def is_authed(self):\n",
    "        return 'auth_key' in self.request.get('cookies', '?')\n",
    "    \n",
    "class ParsesBody:\n",
    "    request: dict\n",
    "    \n",
    "    def __init__(self, request):\n",
    "        self.request = request\n",
    "        \n",
    "    def body(self):\n",
    "        return self.request.get('body', '?')\n",
    "    \n",
    "class ParsesHeaders:\n",
    "    request: dict\n",
    "        \n",
    "    def __init__(self, request):\n",
    "        self.request = request\n",
    "        \n",
    "    def headers(self):\n",
    "        return self.request.get('headers', '?')\n",
    "    \n",
    "    def need_json(self):\n",
    "        return self.headers().get('content-type', '?') == 'application/json'"
   ]
  },
  {
   "cell_type": "markdown",
   "id": "c70280b0",
   "metadata": {},
   "source": [
    "### Задание 13\n",
    "Используя миксины из прошлого пункта, напишите класс JsonHandler, который будет наследоваться от классов ParsesBody и ParsesHeaders , иметь метод process() и конструктор, принимающий аргумент request и сохраняющий в self.request. В этом задании нужно использовать библиотеку json.\n",
    "\n",
    "Метод process() должен работать следующим образом:\n",
    "\n",
    "1. Если need_json() дает False, то возвращать None\n",
    "2. Иначе получать тело через body(), пытаться считать его как json.loads(...) и возвращать число ключей в словаре. Если считать не удалось, то вернуть None.\n",
    "\n",
    "Обратите внимание, что с помощью миксин функциональность проверки headers и получения body была вынесена за JsonHandler - наш класс сосредоточился именно на обработке."
   ]
  },
  {
   "cell_type": "code",
   "execution_count": 2,
   "id": "a335e61a",
   "metadata": {},
   "outputs": [],
   "source": [
    "import json"
   ]
  },
  {
   "cell_type": "code",
   "execution_count": 5,
   "id": "6c2707ec",
   "metadata": {},
   "outputs": [],
   "source": [
    "class JsonHandler(ParsesBody, ParsesHeaders):\n",
    "    def __init__(self, request):\n",
    "        self.request = request\n",
    "        \n",
    "    def process(self):\n",
    "        if super().need_json():\n",
    "            return len(json.loads(super().body()))\n",
    "        else:\n",
    "            return None"
   ]
  },
  {
   "cell_type": "markdown",
   "id": "b5e9a25f",
   "metadata": {},
   "source": [
    "### Задание 14\n",
    "Используя миксины из прошлого пункта, напишите класс SecureTextHandler, который будет наследоваться от классов ParsesBody, ParsesHeaders и ParsesCookies , иметь метод process() и конструктор, принимающий один аргумент и сохраняющий его в нужное поле класса.\n",
    "\n",
    "Метод process() должен работать следующим образом:\n",
    "\n",
    "1. Если is_authed() дает False, то возвращать None.\n",
    "2. Иначе получать тело через body() и возвращать его длину.\n",
    "\n",
    "Добейтесь работоспособности на примере и реализацию класса SecureTextHandler отправьте в LMS. Классы ParsesBody и ParsesHeaders, ParsesCookie отправлять не нужно."
   ]
  },
  {
   "cell_type": "code",
   "execution_count": null,
   "id": "51155453",
   "metadata": {},
   "outputs": [],
   "source": [
    "class SecureTextHandler(ParsesBody,\n",
    "                        ParsesHeaders,\n",
    "                        ParsesCookies):\n",
    "    def __init__(self, request):\n",
    "        self.request = request\n",
    "        \n",
    "    def process(self):\n",
    "        if super().is_authed():\n",
    "            len()"
   ]
  }
 ],
 "metadata": {
  "kernelspec": {
   "display_name": "Python 3 (ipykernel)",
   "language": "python",
   "name": "python3"
  },
  "language_info": {
   "codemirror_mode": {
    "name": "ipython",
    "version": 3
   },
   "file_extension": ".py",
   "mimetype": "text/x-python",
   "name": "python",
   "nbconvert_exporter": "python",
   "pygments_lexer": "ipython3",
   "version": "3.10.5"
  }
 },
 "nbformat": 4,
 "nbformat_minor": 5
}
