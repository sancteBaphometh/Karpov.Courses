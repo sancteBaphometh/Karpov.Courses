{
 "cells": [
  {
   "cell_type": "code",
   "execution_count": 20,
   "id": "6b1debae",
   "metadata": {},
   "outputs": [
    {
     "name": "stdout",
     "output_type": "stream",
     "text": [
      "Сумма равна: 12\n"
     ]
    }
   ],
   "source": [
    "# my_list = list(map(float, input(\"Введите числа через пробел:\\n\").split()))\n",
    "# new_list = [round(i%1,2) for i in my_list if i%1 != 0]\n",
    "# print(max(new_list) - min(new_list))"
   ]
  },
  {
   "cell_type": "code",
   "execution_count": null,
   "id": "ce672829",
   "metadata": {},
   "outputs": [],
   "source": []
  }
 ],
 "metadata": {
  "kernelspec": {
   "display_name": "Python 3 (ipykernel)",
   "language": "python",
   "name": "python3"
  },
  "language_info": {
   "codemirror_mode": {
    "name": "ipython",
    "version": 3
   },
   "file_extension": ".py",
   "mimetype": "text/x-python",
   "name": "python",
   "nbconvert_exporter": "python",
   "pygments_lexer": "ipython3",
   "version": "3.10.5"
  }
 },
 "nbformat": 4,
 "nbformat_minor": 5
}
