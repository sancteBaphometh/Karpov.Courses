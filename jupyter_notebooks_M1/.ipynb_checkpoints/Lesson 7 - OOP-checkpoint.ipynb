{
 "cells": [
  {
   "cell_type": "markdown",
   "id": "6a54a8ea",
   "metadata": {},
   "source": [
    "# Задания к уроку 7"
   ]
  },
  {
   "cell_type": "markdown",
   "id": "e066f6fa",
   "metadata": {},
   "source": [
    "### Задание 1\n",
    "Напишите класс Triangle, который будет иметь 3 поля: a, b, c (стороны треугольника) и n_dots = 3 (количество точек). Поле n_dots объявите на уровне класса, не в конструкторе — чтобы оно было доступно без создания объекта (т.е. работал вызов Triangle.n_dots). Добавьте в класс простой конструктор, принимающий на вход все три стороны и сохраняющий эти стороны в соответсвующие поля класса.\n",
    "\n",
    "Создайте объекты этого класса со следующими названиями: tr_1, tr_2 и любыми значениями длин сторон."
   ]
  },
  {
   "cell_type": "code",
   "execution_count": 1,
   "id": "9c0da1d1",
   "metadata": {},
   "outputs": [],
   "source": [
    "class Triangle:\n",
    "    a: int\n",
    "    b: int\n",
    "    c: int\n",
    "    n_dots = 3\n",
    "    \n",
    "    def __init__(self, a, b, c):\n",
    "        self.a = a\n",
    "        self.b = b\n",
    "        self.c = c"
   ]
  },
  {
   "cell_type": "code",
   "execution_count": 2,
   "id": "03d1f70d",
   "metadata": {},
   "outputs": [],
   "source": [
    "tr_1 = Triangle(1,2,3)\n",
    "tr_2 = Triangle(3,2,1)"
   ]
  },
  {
   "cell_type": "code",
   "execution_count": 3,
   "id": "59b8ec05",
   "metadata": {},
   "outputs": [
    {
     "data": {
      "text/plain": [
       "1"
      ]
     },
     "execution_count": 3,
     "metadata": {},
     "output_type": "execute_result"
    }
   ],
   "source": [
    "# проверка\n",
    "tr_1.a"
   ]
  },
  {
   "cell_type": "markdown",
   "id": "0fa5eec3",
   "metadata": {},
   "source": [
    "### Задание 2\n",
    "Возьмите класс Triangle из предыдущего задания и добавьте метод area(), возвращающий площадь треугольника. Напомним, что при известных трех сторонах площадь треугольника можно подсчитать по формуле Герона. Подумайте, как можно организовать код так, чтобы p считалась один раз.\n",
    "\n",
    "Затем поменяйте конструктор: он должен проверять, что выполнено неравенство треугольника - каждая сторона меньше или равна сумме двух других. Если это условие не выполнено, выбрасывайте ValueError с текстом \"triangle inequality does not hold\" (передайте эту строку в конструктор ValueError).\n",
    "\n",
    "Наконец, создайте два объекта данного класса с названиями tr_1 и tr_2 , в которых соблюдается равенство треугольника. Также, сохраните в переменные square_1 и square_2 результаты вызовов методов .area() для объектов tr_1 и tr_2 соответственно."
   ]
  },
  {
   "cell_type": "code",
   "execution_count": 35,
   "id": "1aa50093",
   "metadata": {},
   "outputs": [],
   "source": [
    "class Triangle_2_0:\n",
    "    a: int\n",
    "    b: int\n",
    "    c: int\n",
    "    n_dots = 3\n",
    "    \n",
    "    def __init__(self, a, b, c):\n",
    "        if (a > (b + c)) or (b > (a + c)) or (c > (a + b)):\n",
    "            raise ValueError('triangle inequality does not hold')\n",
    "        else:\n",
    "            self.a = a\n",
    "            self.b = b\n",
    "            self.c = c\n",
    "    \n",
    "    def area(self.a, self.b, self.c):\n",
    "        # полупериметр\n",
    "        p = 0.5 * (a + b + c)\n",
    "        # площадь\n",
    "        s = (p * (p - a) * (p - b) * (p - c)) ** (0.5)"
   ]
  },
  {
   "cell_type": "code",
   "execution_count": 39,
   "id": "76f6064c",
   "metadata": {},
   "outputs": [],
   "source": [
    "tr_3 = Triangle_2_0(4,3,2)\n",
    "tr_4 = Triangle_2_0(1,2,3)"
   ]
  },
  {
   "cell_type": "code",
   "execution_count": null,
   "id": "e9d86b0b",
   "metadata": {},
   "outputs": [],
   "source": [
    "square_1 = tr_3.area()"
   ]
  }
 ],
 "metadata": {
  "kernelspec": {
   "display_name": "Python 3 (ipykernel)",
   "language": "python",
   "name": "python3"
  },
  "language_info": {
   "codemirror_mode": {
    "name": "ipython",
    "version": 3
   },
   "file_extension": ".py",
   "mimetype": "text/x-python",
   "name": "python",
   "nbconvert_exporter": "python",
   "pygments_lexer": "ipython3",
   "version": "3.10.5"
  }
 },
 "nbformat": 4,
 "nbformat_minor": 5
}
